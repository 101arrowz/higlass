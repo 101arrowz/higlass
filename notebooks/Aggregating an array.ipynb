{
 "cells": [
  {
   "cell_type": "code",
   "execution_count": 1,
   "metadata": {
    "collapsed": true
   },
   "outputs": [],
   "source": [
    "import scipy.stats as ss"
   ]
  },
  {
   "cell_type": "code",
   "execution_count": 2,
   "metadata": {
    "collapsed": true
   },
   "outputs": [],
   "source": [
    "%matplotlib inline"
   ]
  },
  {
   "cell_type": "markdown",
   "metadata": {},
   "source": [
    "## Example with n x 1 data"
   ]
  },
  {
   "cell_type": "code",
   "execution_count": 3,
   "metadata": {},
   "outputs": [
    {
     "data": {
      "text/plain": [
       "[<matplotlib.lines.Line2D at 0x11a0f93c8>]"
      ]
     },
     "execution_count": 3,
     "metadata": {},
     "output_type": "execute_result"
    },
    {
     "data": {
      "image/png": "[encoded data removed]",
      "text/plain": [
       "<matplotlib.figure.Figure at 0x1190f0470>"
      ]
     },
     "metadata": {},
     "output_type": "display_data"
    }
   ],
   "source": [
    "## create some input data\n",
    "import matplotlib.pyplot as plt\n",
    "import scipy.stats as ss\n",
    "\n",
    "array_length = 10000\n",
    "\n",
    "xs = range(array_length)\n",
    "array_data = [ss.norm.pdf(i, array_length/2, array_length/5) for i in xs]\n",
    "plt.plot(xs, array_data)"
   ]
  },
  {
   "cell_type": "code",
   "execution_count": 4,
   "metadata": {},
   "outputs": [
    {
     "name": "stdout",
     "output_type": "stream",
     "text": [
      "zoom_level: 3 resolution: 2 new_data length 5000\n",
      "zoom_level: 2 resolution: 4 new_data length 2500\n",
      "zoom_level: 1 resolution: 8 new_data length 1250\n",
      "zoom_level: 0 resolution: 16 new_data length 625\n"
     ]
    }
   ],
   "source": [
    "import h5py \n",
    "import math\n",
    "import os\n",
    "import os.path as op\n",
    "import numpy as np\n",
    "\n",
    "def create_multires(array_data, array_length, agg):\n",
    "    '''\n",
    "    Create a multires file containing the array data\n",
    "    aggregated at multiple resolutions.\n",
    "    \n",
    "    Parameters\n",
    "    ----------\n",
    "    array_data: np.array\n",
    "        The array data to aggregate\n",
    "    array_length: int\n",
    "        The length of the array to aggregate\n",
    "    agg: lambda\n",
    "        The function that will aggregate the data. Should\n",
    "        take an array as input and create another array of\n",
    "        roughly half the length\n",
    "    '''\n",
    "    filename = '/tmp/my_file.multires'\n",
    "\n",
    "    # this is just so we can run this code\n",
    "    # multiple times without h5py complaining\n",
    "    if op.exists(filename):\n",
    "        os.remove(filename)\n",
    "\n",
    "    # this will be the file that contains our multires data\n",
    "    f = h5py.File('/tmp/my_file.multires', 'w')\n",
    "    f.create_group('resolutions')\n",
    "\n",
    "    # start with a resolution of 1 element per pixel\n",
    "    curr_resolution = 1\n",
    "\n",
    "    # this will be our sample highest-resolution array\n",
    "    # and it will be stored under the resolutions['1']\n",
    "    # dataset\n",
    "    f['resolutions'].create_dataset(str(curr_resolution), array_data.shape)\n",
    "    f['resolutions']['1'][:] = array_data    # see above section\n",
    "\n",
    "    # the tile size that we want higlass to use\n",
    "    # unless this needs to be drastically different, there's no\n",
    "    # reason to change it\n",
    "    tile_size = 1024\n",
    "\n",
    "    # the maximum zoom level corresponds to the number of aggregations\n",
    "    # that need to be performed so that the entire extent of\n",
    "    # the dataset fits into one tile\n",
    "    max_zoom = math.ceil(math.log(array_length / tile_size) / math.log(2))\n",
    "\n",
    "    # we're going to go through and create the data for the different\n",
    "    # zoom levels by summing adjacent data points\n",
    "    prev_resolution = curr_resolution\n",
    "\n",
    "    for i in range(max_zoom):\n",
    "        # each subsequent zoom level will have half as much data\n",
    "        # as the previous\n",
    "        curr_resolution = prev_resolution * 2\n",
    "\n",
    "        next_level_length = math.ceil(\n",
    "            len(f['resolutions'][str(prev_resolution)]) / 2)\n",
    "        \n",
    "        old_data = f['resolutions'][str(prev_resolution)][:]\n",
    "        \n",
    "        # this is a sort of roundabout way of calculating the \n",
    "        # shape of the aggregated array, but all its doing is\n",
    "        # just halving the first dimension of the previous shape\n",
    "        # without taking into account the other dimensions\n",
    "        new_shape = list(old_data.shape)\n",
    "        new_shape[0] = math.ceil(new_shape[0] / 2)\n",
    "        new_shape = tuple(new_shape)\n",
    "        \n",
    "        f['resolutions'].create_dataset(str(curr_resolution), \n",
    "                                        new_shape)\n",
    "\n",
    "        if len(old_data) % 2 != 0:\n",
    "            # we need our array to have an even number of elements\n",
    "            # so we just add the last element again\n",
    "            old_data = np.append(old_data, [old_data[-1]])\n",
    "\n",
    "        # actually sum the adjacent elements\n",
    "        new_data = agg(old_data)\n",
    "\n",
    "        print(\"zoom_level:\", max_zoom - 1 - i, \n",
    "              \"resolution:\", curr_resolution, \n",
    "              \"new_data length\", len(new_data))\n",
    "        f['resolutions'][str(curr_resolution)][:] = new_data\n",
    "\n",
    "        prev_resolution = curr_resolution\n",
    "    return f\n",
    "\n",
    "f = create_multires(np.array(array_data), \n",
    "                    len(array_data),\n",
    "                    lambda x: x.reshape(-1,2).sum(axis=1))"
   ]
  },
  {
   "cell_type": "code",
   "execution_count": 5,
   "metadata": {
    "collapsed": true
   },
   "outputs": [],
   "source": [
    "def get_tileset_info(f):\n",
    "    '''\n",
    "    Return some information about this tileset that will\n",
    "    help render it in on the client.\n",
    "    \n",
    "    Parameters\n",
    "    ----------\n",
    "    f: h5py.File\n",
    "        The f for which we're returning tileset info\n",
    "    \n",
    "    Returns\n",
    "    -------\n",
    "    tileset_info: {}\n",
    "        A dictionary containing the information describing\n",
    "        this dataset\n",
    "    '''\n",
    "    # a sorted list of resolutions, lowest to highest\n",
    "    # awkward to write because a the numbers representing resolution\n",
    "    # are datapoints / pixel so lower resolution is actually a higher\n",
    "    # number\n",
    "    resolutions = sorted([int(r) for r in f['resolutions'].keys()])[::-1]\n",
    "    \n",
    "    # the \"leftmost\" datapoint position\n",
    "    # an array because higlass can display multi-dimensional\n",
    "    # data\n",
    "    min_pos = [0]\n",
    "    \n",
    "    # the \"rightmost\" datapoint position\n",
    "    max_pos = [len(f['resolutions'][str(resolutions[-1])])]\n",
    "    tile_size = 1024\n",
    "    \n",
    "    return {\n",
    "        'resolutions': resolutions,\n",
    "        'min_pos': min_pos, \n",
    "        'tile_size': tile_size\n",
    "    }"
   ]
  },
  {
   "cell_type": "code",
   "execution_count": 6,
   "metadata": {},
   "outputs": [
    {
     "name": "stdout",
     "output_type": "stream",
     "text": [
      "{'resolutions': [16, 8, 4, 2, 1], 'min_pos': [0], 'tile_size': 1024}\n"
     ]
    }
   ],
   "source": [
    "print(get_tileset_info(f))"
   ]
  },
  {
   "cell_type": "code",
   "execution_count": 7,
   "metadata": {
    "collapsed": true
   },
   "outputs": [],
   "source": [
    "def get_tile(f, tile_pos):\n",
    "    '''\n",
    "    Return a data tile from a multires file.\n",
    "    \n",
    "    Parameters\n",
    "    ----------\n",
    "    f: h5py.File\n",
    "        A multires datafile\n",
    "    tile_pos: []\n",
    "        An array containing the zoom level and tile\n",
    "        position (e.g. [0,3])\n",
    "        \n",
    "    Returns\n",
    "    -------\n",
    "    data: []\n",
    "        The data for that tile as an array\n",
    "    '''\n",
    "    tileset_info = get_tileset_info(f)\n",
    "    \n",
    "    # which resolution does this zoom level correspond to?\n",
    "    resolution = tileset_info['resolutions'][tile_pos[0]]\n",
    "    tile_size = tileset_info['tile_size']\n",
    "    \n",
    "    # where in the data does the tile start and end\n",
    "    tile_start = tile_pos[1] * tile_size\n",
    "    tile_end = tile_start + tile_size\n",
    "\n",
    "    return f['resolutions'][str(resolution)][tile_start:tile_end]"
   ]
  },
  {
   "cell_type": "code",
   "execution_count": 8,
   "metadata": {},
   "outputs": [
    {
     "data": {
      "text/plain": [
       "[<matplotlib.lines.Line2D at 0x11aa9a7f0>]"
      ]
     },
     "execution_count": 8,
     "metadata": {},
     "output_type": "execute_result"
    },
    {
     "data": {
      "image/png": "[encoded data removed]",
      "text/plain": [
       "<matplotlib.figure.Figure at 0x11a0a44e0>"
      ]
     },
     "metadata": {},
     "output_type": "display_data"
    }
   ],
   "source": [
    "# the largest tile (zoom level 0, position 0) contains a downsampled\n",
    "# version of the entire dataset\n",
    "d = get_tile(f, [0,0])\n",
    "plt.plot(d)"
   ]
  },
  {
   "cell_type": "code",
   "execution_count": 9,
   "metadata": {},
   "outputs": [
    {
     "data": {
      "text/plain": [
       "[<matplotlib.lines.Line2D at 0x11abe7390>]"
      ]
     },
     "execution_count": 9,
     "metadata": {},
     "output_type": "execute_result"
    },
    {
     "data": {
      "image/png": "[encoded data removed]",
      "text/plain": [
       "<matplotlib.figure.Figure at 0x11aa76550>"
      ]
     },
     "metadata": {},
     "output_type": "display_data"
    }
   ],
   "source": [
    "# going to the first tile of the next zoom level\n",
    "# we're showing less data\n",
    "d = get_tile(f, [1,0])\n",
    "plt.plot(d)"
   ]
  },
  {
   "cell_type": "code",
   "execution_count": 10,
   "metadata": {},
   "outputs": [
    {
     "data": {
      "text/plain": [
       "[<matplotlib.lines.Line2D at 0x11ac35dd8>]"
      ]
     },
     "execution_count": 10,
     "metadata": {},
     "output_type": "execute_result"
    },
    {
     "data": {
      "image/png": "[encoded data removed]",
      "text/plain": [
       "<matplotlib.figure.Figure at 0x11ac05828>"
      ]
     },
     "metadata": {},
     "output_type": "display_data"
    }
   ],
   "source": [
    "# the second tile of zoom_level 1 contains the\n",
    "# data to the \"right\" of the first tile\n",
    "d = get_tile(f, [1,1])\n",
    "plt.plot(d)"
   ]
  },
  {
   "cell_type": "markdown",
   "metadata": {
    "collapsed": true
   },
   "source": [
    "## Example with n x c data"
   ]
  },
  {
   "cell_type": "code",
   "execution_count": 11,
   "metadata": {},
   "outputs": [
    {
     "data": {
      "text/plain": [
       "[<matplotlib.lines.Line2D at 0x11a06b080>]"
      ]
     },
     "execution_count": 11,
     "metadata": {},
     "output_type": "execute_result"
    },
    {
     "data": {
      "image/png": "[encoded data removed]",
      "text/plain": [
       "<matplotlib.figure.Figure at 0x11a080320>"
      ]
     },
     "metadata": {},
     "output_type": "display_data"
    }
   ],
   "source": [
    "## create some input data\n",
    "import h5py \n",
    "import math\n",
    "import os\n",
    "import os.path as op\n",
    "import numpy as np\n",
    "\n",
    "import matplotlib.pyplot as plt\n",
    "import scipy.stats as ss\n",
    "\n",
    "array_length = 4000\n",
    "array_width = 5\n",
    "\n",
    "xs = range(array_length)\n",
    "array_data = np.array([i * np.array(range(array_length))\n",
    "              for i in range(1,array_width+1)]).T\n",
    "plt.plot(xs, array_data[:,0])"
   ]
  },
  {
   "cell_type": "code",
   "execution_count": 12,
   "metadata": {},
   "outputs": [
    {
     "data": {
      "text/plain": [
       "array([[    0,     0,     0,     0,     0],\n",
       "       [    1,     2,     3,     4,     5],\n",
       "       [    2,     4,     6,     8,    10],\n",
       "       ..., \n",
       "       [ 3997,  7994, 11991, 15988, 19985],\n",
       "       [ 3998,  7996, 11994, 15992, 19990],\n",
       "       [ 3999,  7998, 11997, 15996, 19995]])"
      ]
     },
     "execution_count": 12,
     "metadata": {},
     "output_type": "execute_result"
    }
   ],
   "source": [
    "array_data"
   ]
  },
  {
   "cell_type": "code",
   "execution_count": 13,
   "metadata": {},
   "outputs": [
    {
     "data": {
      "text/plain": [
       "array([[    1,     2,     3,     4,     5],\n",
       "       [    5,    10,    15,    20,    25],\n",
       "       [    9,    18,    27,    36,    45],\n",
       "       ..., \n",
       "       [ 7989, 15978, 23967, 31956, 39945],\n",
       "       [ 7993, 15986, 23979, 31972, 39965],\n",
       "       [ 7997, 15994, 23991, 31988, 39985]])"
      ]
     },
     "execution_count": 13,
     "metadata": {},
     "output_type": "execute_result"
    }
   ],
   "source": [
    "array_data.T.reshape((array_data.shape[1],-1,2)).sum(axis=2).T"
   ]
  },
  {
   "cell_type": "code",
   "execution_count": 14,
   "metadata": {},
   "outputs": [
    {
     "name": "stdout",
     "output_type": "stream",
     "text": [
      "zoom_level: 1 resolution: 2 new_data length 2000\n",
      "zoom_level: 0 resolution: 4 new_data length 1000\n"
     ]
    }
   ],
   "source": [
    "f = create_multires(np.array(array_data), \n",
    "                    array_length,\n",
    "                    lambda x: x.T.reshape((x.shape[1],-1,2)).sum(axis=2).T)"
   ]
  },
  {
   "cell_type": "code",
   "execution_count": 15,
   "metadata": {},
   "outputs": [
    {
     "name": "stdout",
     "output_type": "stream",
     "text": [
      "{'resolutions': [4, 2, 1], 'min_pos': [0], 'tile_size': 1024}\n"
     ]
    }
   ],
   "source": [
    "print(get_tileset_info(f))"
   ]
  },
  {
   "cell_type": "code",
   "execution_count": 16,
   "metadata": {},
   "outputs": [
    {
     "data": {
      "text/plain": [
       "array([[  6.00000000e+00,   1.20000000e+01,   1.80000000e+01,\n",
       "          2.40000000e+01,   3.00000000e+01],\n",
       "       [  2.20000000e+01,   4.40000000e+01,   6.60000000e+01,\n",
       "          8.80000000e+01,   1.10000000e+02],\n",
       "       [  3.80000000e+01,   7.60000000e+01,   1.14000000e+02,\n",
       "          1.52000000e+02,   1.90000000e+02],\n",
       "       ..., \n",
       "       [  1.59580000e+04,   3.19160000e+04,   4.78740000e+04,\n",
       "          6.38320000e+04,   7.97900000e+04],\n",
       "       [  1.59740000e+04,   3.19480000e+04,   4.79220000e+04,\n",
       "          6.38960000e+04,   7.98700000e+04],\n",
       "       [  1.59900000e+04,   3.19800000e+04,   4.79700000e+04,\n",
       "          6.39600000e+04,   7.99500000e+04]], dtype=float32)"
      ]
     },
     "execution_count": 16,
     "metadata": {},
     "output_type": "execute_result"
    }
   ],
   "source": [
    "get_tile(f, [0,0])"
   ]
  }
 ],
 "metadata": {
  "kernelspec": {
   "display_name": "Python 3",
   "language": "python",
   "name": "python3"
  },
  "language_info": {
   "codemirror_mode": {
    "name": "ipython",
    "version": 3
   },
   "file_extension": ".py",
   "mimetype": "text/x-python",
   "name": "python",
   "nbconvert_exporter": "python",
   "pygments_lexer": "ipython3",
   "version": "3.6.2"
  }
 },
 "nbformat": 4,
 "nbformat_minor": 2
}
