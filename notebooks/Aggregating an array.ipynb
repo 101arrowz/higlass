{
 "cells": [
  {
   "cell_type": "code",
   "execution_count": 131,
   "metadata": {},
   "outputs": [
    {
     "name": "stdout",
     "output_type": "stream",
     "text": [
      "zoom_level: 6 resolution: 2 new_data length 50000\n",
      "zoom_level: 5 resolution: 4 new_data length 25000\n",
      "zoom_level: 4 resolution: 8 new_data length 12500\n",
      "zoom_level: 3 resolution: 16 new_data length 6250\n",
      "zoom_level: 2 resolution: 32 new_data length 3125\n",
      "zoom_level: 1 resolution: 64 new_data length 1563\n",
      "zoom_level: 0 resolution: 128 new_data length 782\n"
     ]
    }
   ],
   "source": [
    "import h5py \n",
    "import math\n",
    "import os\n",
    "import os.path as op\n",
    "import numpy as np\n",
    "\n",
    "filename = '/tmp/my_file.multires'\n",
    "\n",
    "# this is just so we can run this code\n",
    "# multiple times without h5py complaining\n",
    "if op.exists(filename):\n",
    "    os.remove(filename)\n",
    "\n",
    "# this will be the file that contains our multires data\n",
    "f = h5py.File('/tmp/my_file.multires', 'w')\n",
    "f.create_group('resolutions')\n",
    "\n",
    "# start with a resolution of 1 element per pixel\n",
    "curr_resolution = 1\n",
    "\n",
    "# this will be our sample highest-resolution array\n",
    "# and it will be stored under the resolutions['1']\n",
    "# dataset\n",
    "array_length = 100000\n",
    "f['resolutions'].create_dataset(str(curr_resolution), (100000,))\n",
    "f['resolutions']['1'][:] = np.array(range(array_length))\n",
    "\n",
    "# the tile size that we want higlass to use\n",
    "# unless this needs to be drastically different, there's no\n",
    "# reason to change it\n",
    "tile_size = 1024\n",
    "\n",
    "# the maximum zoom level corresponds to the number of aggregations\n",
    "# that need to be performed so that the entire extent of\n",
    "# the dataset fits into one tile\n",
    "max_zoom = math.ceil(math.log(array_length / tile_size) / math.log(2))\n",
    "\n",
    "# we're going to go through and create the data for the different\n",
    "# zoom levels by summing adjacent data points\n",
    "prev_resolution = curr_resolution\n",
    "\n",
    "for i in range(max_zoom):\n",
    "    # each subsequent zoom level will have half as much data\n",
    "    # as the previous\n",
    "    curr_resolution = prev_resolution * 2\n",
    "    \n",
    "    next_level_length = math.ceil(\n",
    "        len(f['resolutions'][str(prev_resolution)]) / 2)\n",
    "    \n",
    "    f['resolutions'].create_dataset(str(curr_resolution), \n",
    "                                    (next_level_length,))\n",
    "    old_data = f['resolutions'][str(prev_resolution)][:]\n",
    "    \n",
    "    if len(old_data) % 2 != 0:\n",
    "        # we need our array to have an even number of elements\n",
    "        # so we just add the last element again\n",
    "        old_data = np.append(old_data, [old_data[-1]])\n",
    "        \n",
    "    # actually sum the adjacent elements\n",
    "    new_data = old_data.reshape(-1,2).sum(axis=1)\n",
    "    \n",
    "    print(\"zoom_level:\", max_zoom - 1 - i, \n",
    "          \"resolution:\", curr_resolution, \n",
    "          \"new_data length\", len(new_data))\n",
    "    f['resolutions'][str(curr_resolution)][:] = new_data\n",
    "    \n",
    "    prev_resolution = curr_resolution"
   ]
  },
  {
   "cell_type": "code",
   "execution_count": 179,
   "metadata": {},
   "outputs": [],
   "source": [
    "def get_tileset_info(f):\n",
    "    '''\n",
    "    Return some information about this tileset that will\n",
    "    help render it in on the client.\n",
    "    \n",
    "    Parameters\n",
    "    ----------\n",
    "    f: h5py.File\n",
    "        The f for which we're returning tileset info\n",
    "    \n",
    "    Returns\n",
    "    -------\n",
    "    tileset_info: {}\n",
    "        A dictionary containing the information describing\n",
    "        this dataset\n",
    "    '''\n",
    "    # a sorted list of resolutions, lowest to highest\n",
    "    # awkward to write because a the numbers representing resolution\n",
    "    # are datapoints / pixel so lower resolution is actually a higher\n",
    "    # number\n",
    "    resolutions = sorted([int(r) for r in f['resolutions'].keys()])[::-1]\n",
    "    \n",
    "    # the \"leftmost\" datapoint position\n",
    "    # an array because higlass can display multi-dimensional\n",
    "    # data\n",
    "    min_pos = [0]\n",
    "    \n",
    "    # the \"rightmost\" datapoint position\n",
    "    max_pos = [len(f['resolutions'][str(resolutions[-1])])]\n",
    "    \n",
    "    return {\n",
    "        'resolutions': resolutions,\n",
    "        'min_pos': min_pos, \n",
    "        'tile_size': tile_size\n",
    "    }"
   ]
  },
  {
   "cell_type": "code",
   "execution_count": 180,
   "metadata": {},
   "outputs": [
    {
     "name": "stdout",
     "output_type": "stream",
     "text": [
      "{'resolutions': [128, 64, 32, 16, 8, 4, 2, 1], 'min_pos': [0], 'tile_size': 1024}\n"
     ]
    }
   ],
   "source": [
    "print(get_tileset_info(f))"
   ]
  },
  {
   "cell_type": "code",
   "execution_count": 183,
   "metadata": {
    "collapsed": true
   },
   "outputs": [],
   "source": [
    "def get_tile(f, tile_pos):\n",
    "    '''\n",
    "    Return a data tile from a multires file.\n",
    "    \n",
    "    Parameters\n",
    "    ----------\n",
    "    f: h5py.File\n",
    "        A multires datafile\n",
    "    tile_pos: []\n",
    "        An array containing the zoom level and tile\n",
    "        position (e.g. [0,3])\n",
    "        \n",
    "    Returns\n",
    "    -------\n",
    "    data: []\n",
    "        The data for that tile as an array\n",
    "    '''\n",
    "    tileset_info = get_tileset_info(f)\n",
    "    \n",
    "    # which resolution does this zoom level correspond to?\n",
    "    resolution = tileset_info['resolutions'][tile_pos[0]]\n",
    "    tile_size = tileset_info['tile_size']\n",
    "    \n",
    "    # where in the data does the tile start and end\n",
    "    tile_start = tile_pos[1] * tile_size\n",
    "    tile_end = tile_start + tile_size\n",
    "\n",
    "    return f['resolutions'][str(resolution)][tile_start:tile_end]"
   ]
  },
  {
   "cell_type": "code",
   "execution_count": 184,
   "metadata": {},
   "outputs": [
    {
     "name": "stdout",
     "output_type": "stream",
     "text": [
      "len(get_tile) 782\n"
     ]
    }
   ],
   "source": [
    "print(\"len(get_tile)\", len(get_tile(f, [0,0])))"
   ]
  },
  {
   "cell_type": "code",
   "execution_count": null,
   "metadata": {
    "collapsed": true
   },
   "outputs": [],
   "source": []
  }
 ],
 "metadata": {
  "kernelspec": {
   "display_name": "Python 3",
   "language": "python",
   "name": "python3"
  },
  "language_info": {
   "codemirror_mode": {
    "name": "ipython",
    "version": 3
   },
   "file_extension": ".py",
   "mimetype": "text/x-python",
   "name": "python",
   "nbconvert_exporter": "python",
   "pygments_lexer": "ipython3",
   "version": "3.6.1"
  }
 },
 "nbformat": 4,
 "nbformat_minor": 2
}
