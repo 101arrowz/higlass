{
 "cells": [
  {
   "cell_type": "code",
   "execution_count": 1,
   "metadata": {
    "collapsed": false
   },
   "outputs": [
    {
     "name": "stdout",
     "output_type": "stream",
     "text": [
      "Populating the interactive namespace from numpy and matplotlib\n"
     ]
    }
   ],
   "source": [
    "%load_ext autoreload\n",
    "%autoreload 2\n",
    "%pylab inline\n",
    "\n",
    "import os.path as op\n",
    "import findspark\n",
    "import os\n",
    "findspark.init()\n",
    "\n",
    "import pyspark\n",
    "sc = pyspark.SparkContext()"
   ]
  },
  {
   "cell_type": "markdown",
   "metadata": {},
   "source": [
    "## Utility functions"
   ]
  },
  {
   "cell_type": "code",
   "execution_count": 2,
   "metadata": {
    "collapsed": false
   },
   "outputs": [],
   "source": [
    "assembly = 'hg19'"
   ]
  },
  {
   "cell_type": "code",
   "execution_count": 15,
   "metadata": {
    "collapsed": false
   },
   "outputs": [],
   "source": [
    "data_dir = op.expanduser(\"~/data\")\n",
    "output_dir = op.join(data_dir, assembly)   # where all of the intermediate output will be stored\n",
    "base_ucsc_dir = op.join(data_dir, 'ucsc-data/{}'.format(assembly))  # where all of the files downloaded from UCSC will be stored\n",
    "\n",
    "import shutil\n",
    "\n",
    "# create a directory to store intermediate output files\n",
    "def get_outfile(table_name):\n",
    "    outfile = op.join(output_dir, 'genbank-output/{}'.format(table_name))\n",
    "    if op.exists(outfile):\n",
    "        shutil.rmtree(outfile)\n",
    "    return outfile"
   ]
  },
  {
   "cell_type": "markdown",
   "metadata": {},
   "source": [
    "## Load the chromosome lengths"
   ]
  },
  {
   "cell_type": "code",
   "execution_count": 16,
   "metadata": {
    "collapsed": false
   },
   "outputs": [
    {
     "name": "stdout",
     "output_type": "stream",
     "text": [
      "0 249250621 492449994\n"
     ]
    }
   ],
   "source": [
    "def get_chrom_lengths(base_dir):\n",
    "    '''\n",
    "    Get the cumulative start positions for the chromosomes in an assembly. The chromosomes\n",
    "    will be sorted alphabetically by their names.\n",
    "    \n",
    "    :param base_dir: A directory containing meta data about a genome assembly\n",
    "    :return: A dictionary of the from { 'chr2': 234323432 }, showing at which position\n",
    "             chromosomes start.\n",
    "    '''\n",
    "    chromLengths = (sc.textFile(op.join(base_dir, 'chromInfo.txt.gz'))\n",
    "                    .map(lambda x: x.split('\\t'))\n",
    "                    .map(lambda x: {'chrom': x[0], 'length': int(x[1]) })\n",
    "                    .collect())\n",
    "    \n",
    "    cum_chrom_lengths = {}\n",
    "    curr_cum_lengths = 0\n",
    "    \n",
    "    for x in sorted(chromLengths, key=lambda x: -x['length']):\n",
    "        cum_chrom_lengths[x['chrom']] = curr_cum_lengths\n",
    "        curr_cum_lengths += x['length']\n",
    "        \n",
    "    return cum_chrom_lengths\n",
    "\n",
    "cum_chrom_lengths = get_chrom_lengths(base_ucsc_dir)\n",
    "\n",
    "print cum_chrom_lengths['chr1'], cum_chrom_lengths['chr2'], cum_chrom_lengths['chr3']"
   ]
  },
  {
   "cell_type": "markdown",
   "metadata": {},
   "source": [
    "## Loading the refgene data"
   ]
  },
  {
   "cell_type": "code",
   "execution_count": 17,
   "metadata": {
    "collapsed": false
   },
   "outputs": [
    {
     "name": "stdout",
     "output_type": "stream",
     "text": [
      "[{'exonEnds': u'15469389,15471514,15473730,15476045,15478082,15484120', 'geneName': u'EAF1', 'chromOffset': 492449994, 'name': u'NM_033083', 'txStart': u'15469063', 'exonCount': u'6', 'strand': u'+', 'cdsEnd': u'15480662', 'genomeTxStart': 507919057, 'geneLength': 15057, 'cdsStart': u'15469286', 'chrom': u'chr3', 'genomeTxEnd': 507934114, 'txEnd': u'15484120', 'exonStarts': u'15469063,15471419,15473593,15475854,15477848,15480615'}]\n"
     ]
    }
   ],
   "source": [
    "from pyspark import SparkContext, SparkConf\n",
    "\n",
    "\n",
    "def parse_exon_positions(exon_positions_str):\n",
    "    return map(int, exon_positions_str.strip(\",\").split(','))\n",
    "\n",
    "def load_refgene_data(base_dir):\n",
    "    '''\n",
    "    Load the UCSC refgene data for a particular assembly.\n",
    "    \n",
    "    :param base_dir: The directory which contains the refGene.txt.gz file.\n",
    "    '''\n",
    "    refGene = (sc.textFile(op.join(base_dir, 'refGene.txt.gz'))\n",
    "               .map(lambda x: x.split('\\t'))\n",
    "               .map(lambda x: {'name': x[1],\n",
    "                               'chrom': x[2],\n",
    "                               'strand': x[3],\n",
    "                               'txStart': x[4],\n",
    "                               'txEnd': x[5],\n",
    "                               'cdsStart': x[6],\n",
    "                               'cdsEnd': x[7],\n",
    "                               'exonCount': x[8],\n",
    "                               'exonStarts': x[9].strip(','),\n",
    "                               'exonEnds': x[10].strip(','),\n",
    "                               'chromOffset': cum_chrom_lengths[x[2]],\n",
    "                               'genomeTxStart': cum_chrom_lengths[x[2]] + int(x[4]),\n",
    "                               'genomeTxEnd': cum_chrom_lengths[x[2]] + int(x[5]),\n",
    "                               'geneName': x[12],\n",
    "                               'geneLength': int(x[5]) - int(x[4]),\n",
    "                               })\n",
    "            )\n",
    "    \n",
    "    return refGene\n",
    "\n",
    "refGene = load_refgene_data(base_ucsc_dir)\n",
    "### add the genomic position\n",
    "print refGene.take(1)"
   ]
  },
  {
   "cell_type": "markdown",
   "metadata": {},
   "source": []
  },
  {
   "cell_type": "markdown",
   "metadata": {},
   "source": [
    "## Count the references\n",
    "\n",
    "For this exercise, the result should be a tsv with the following columns:\n",
    "\n",
    "```\n",
    "<taxId> <geneId> <refSeqID> <citation count>\n",
    "```"
   ]
  },
  {
   "cell_type": "code",
   "execution_count": 18,
   "metadata": {
    "collapsed": false
   },
   "outputs": [
    {
     "name": "stdout",
     "output_type": "stream",
     "text": [
      "[((9, 1246500), {'count': 1})]\n",
      "[((497978, 12113554), {'count': 1})]\n"
     ]
    }
   ],
   "source": [
    "def load_gene_counts(genbank_dir):\n",
    "    gene2pubmed = (sc.textFile(op.join(genbank_dir, \"gene2pubmed\"))\n",
    "                     .filter(lambda x: x[0] != '#')\n",
    "                     .map(lambda x: x.split('\\t'))\n",
    "                     .map(lambda p: {'taxid': int(p[0]), 'geneid': int(p[1]), 'pmid': int(p[2]), 'count': 1})\n",
    "                     .map(lambda x: ((x['taxid'], x['geneid']), {'count': x['count']}))\n",
    "                     )\n",
    "    \n",
    "    def reduce_count(r1, r2):\n",
    "        '''\n",
    "        A reduce function that simply counts the number of elements in the table.\n",
    "        \n",
    "        @param r1: A Row\n",
    "        @param r2: A Row\n",
    "        @return: A new Row, equal to the first Row with a summed count.\n",
    "        '''\n",
    "        #print >>sys.stderr, \"r1:\", r1\n",
    "        r1['count'] += r2['count']\n",
    "        return r1\n",
    "\n",
    "    print gene2pubmed.take(1)\n",
    "    reduced_gene2pubmed = gene2pubmed.reduceByKey(reduce_count)\n",
    "    \n",
    "    outfile = get_outfile('taxid-geneid-count')\n",
    "\n",
    "    (reduced_gene2pubmed\n",
    "        .map(lambda x: \"{}\\t{}\\t{}\".format(x[0][0], x[0][1], x[1]['count']))\n",
    "        .saveAsTextFile(outfile)\n",
    "        )\n",
    "    \n",
    "    return reduced_gene2pubmed\n",
    "\n",
    "\n",
    "taxid_geneid_count = load_gene_counts(op.join(data_dir, 'genbank-data/'))\n",
    "print taxid_geneid_count.take(1)"
   ]
  },
  {
   "cell_type": "markdown",
   "metadata": {},
   "source": [
    "## Load the gene2refseq annotations"
   ]
  },
  {
   "cell_type": "code",
   "execution_count": 23,
   "metadata": {
    "collapsed": false
   },
   "outputs": [
    {
     "name": "stdout",
     "output_type": "stream",
     "text": [
      "[(u'-', (9, 1246500)), (u'-', (9, 1246501)), (u'-', (9, 1246502)), (u'-', (9, 1246503)), (u'-', (9, 1246504)), (u'-', (9, 1246505)), (u'-', (9, 1246509)), (u'-', (9, 1246510)), (u'-', (9, 3722426)), (u'-', (9, 8655732))]\n",
      "[(u'XM_009628531', (4098, 104117469))]\n"
     ]
    }
   ],
   "source": [
    "def load_refseq2gene(genbank_base_dir):\n",
    "    '''\n",
    "    Get the mapping from refseq IDs to gene IDs\n",
    "    \n",
    "    :param genbank_base_dir: The directory that contains all of the genbank files.\n",
    "    :return: A set of tuples of the form (refseq_id, (taxid, geneid))\n",
    "    '''\n",
    "    gene2refseq = (sc.textFile(op.join(genbank_base_dir, 'gene2refseq'))\n",
    "                   .filter(lambda x: x[0] != '#')\n",
    "                   .map(lambda x: x.split('\\t'))\n",
    "                   .map(lambda p: {'taxid': int(p[0]), 'geneid': int(p[1]), 'refseqid': p[3] })\n",
    "                   .map(lambda x: (x['refseqid'].split('.')[0], (x['taxid'], x['geneid'])))\n",
    "                   )\n",
    "    \n",
    "    def reduce_by_refseq_id(r1, r2):\n",
    "        # because we're just looking for a mapping from geneId to refseqId, we just need to throw\n",
    "        # away single entries with identical refseq ids\n",
    "        return r1\n",
    "    \n",
    "    print gene2refseq.take(10)\n",
    "    refseq2gene = gene2refseq.reduceByKey(reduce_by_refseq_id)\n",
    "    print refseq2gene.take(1)\n",
    "    \n",
    "    outfile = get_outfile('refseqid-taxid-geneid')\n",
    "\n",
    "    (refseq2gene.map(lambda x: \"{}\\t{}\\t{}\".format(x[0], x[1][0], x[1][1]))\n",
    "         .saveAsTextFile(outfile)\n",
    "    )\n",
    "    return refseq2gene\n",
    "\n",
    "refseqid_taxid_geneid = load_refseq2gene(op.join(data_dir, 'genbank-data'))"
   ]
  },
  {
   "cell_type": "markdown",
   "metadata": {},
   "source": [
    "## Join the reference counts and refseq to geneid translations"
   ]
  },
  {
   "cell_type": "code",
   "execution_count": 25,
   "metadata": {
    "collapsed": false
   },
   "outputs": [
    {
     "name": "stdout",
     "output_type": "stream",
     "text": [
      "[(u'XM_009054708', (225164, 20243866))]\n"
     ]
    }
   ],
   "source": [
    "print refseqid_taxid_geneid.take(1)"
   ]
  },
  {
   "cell_type": "code",
   "execution_count": 27,
   "metadata": {
    "collapsed": false
   },
   "outputs": [
    {
     "name": "stdout",
     "output_type": "stream",
     "text": [
      "[((559292, 852335), u'NM_001178394')]\n",
      "[((670483, 19307480), ({'count': 1}, u'XM_007869167'))]\n",
      "[((530564, 8707716), {'count': 1})]\n"
     ]
    }
   ],
   "source": [
    "def join_counts_and_ids(refseqid_taxid_geneid, taxid_geneid_count):\n",
    "    taxid_geneid_refseq = refseqid_taxid_geneid.map(lambda x: (x[1], x[0]))\n",
    "    \n",
    "    \n",
    "    '''    \n",
    "    taxid_geneid_refseq = (sc.textFile(op.join(output_dir, 'genbank-output/refseqid-taxid-geneid'))\n",
    "                   .map(lambda x: x.split())\n",
    "                   .map(lambda x: ((int(x[1]), int(x[2])), x[0]))\n",
    "                        )\n",
    "    '''\n",
    "    print taxid_geneid_refseq.take(1)\n",
    "    \n",
    "    '''\n",
    "    (sc.textFile(op.join(output_dir, 'genbank-output/taxid-geneid-count'))\n",
    "                          .map(lambda x: x.split())\n",
    "                          .map(lambda x: ((int(x[0]), int(x[1])), int(x[2])))\n",
    "                          )\n",
    "    '''\n",
    "    taxid_geneid_count_refseq = taxid_geneid_count.join(taxid_geneid_refseq)\n",
    "    print taxid_geneid_count_refseq.take(1)\n",
    "    print taxid_geneid_count.take(1)\n",
    "    \n",
    "    outfile = get_outfile('taxid-geneid-refseqid-count')\n",
    "\n",
    "    (taxid_geneid_count_refseq.map(lambda x: \"{}\\t{}\\t{}\\t{}\".format(x[0][0],\n",
    "                                                                  x[0][1],\n",
    "                                                                  x[1][1],\n",
    "                                                                  x[1][0]))\n",
    "     .saveAsTextFile(outfile)\n",
    "     )\n",
    "    return taxid_geneid_count_refseq\n",
    "\n",
    "taxid_geneid_count_refseq = join_counts_and_ids(refseqid_taxid_geneid, taxid_geneid_count)"
   ]
  },
  {
   "cell_type": "markdown",
   "metadata": {},
   "source": [
    "## Join the refgene data with the count data"
   ]
  },
  {
   "cell_type": "code",
   "execution_count": 28,
   "metadata": {
    "collapsed": false
   },
   "outputs": [
    {
     "name": "stdout",
     "output_type": "stream",
     "text": [
      "[(u'NM_033083', {'exonEnds': u'15469389,15471514,15473730,15476045,15478082,15484120', 'geneName': u'EAF1', 'chromOffset': 492449994, 'name': u'NM_033083', 'txStart': u'15469063', 'exonCount': u'6', 'strand': u'+', 'cdsEnd': u'15480662', 'genomeTxStart': 507919057, 'geneLength': 15057, 'cdsStart': u'15469286', 'chrom': u'chr3', 'genomeTxEnd': 507934114, 'txEnd': u'15484120', 'exonStarts': u'15469063,15471419,15473593,15475854,15477848,15480615'})]\n",
      "[(u'XM_006853603', {'count': 1})]\n",
      "[(u'NM_001283037', ({'txEnd': u'55093942', 'geneLength': 50302, 'geneName': u'RTFDC1', 'chromOffset': 2814714882, 'name': u'NM_001283037', 'txStart': u'55043640', 'chrom': u'chr20', 'cdsEnd': u'55093148', 'genomeTxStart': 2869758522, 'strand': u'+', 'cdsStart': u'55043753', 'exonCount': u'8', 'genomeTxEnd': 2869808824, 'exonEnds': u'55043822,55048451,55049827,55052180,55059245,55088484,55092257,55093942', 'exonStarts': u'55043640,55048356,55049733,55052040,55059166,55088370,55092161,55093142'}, {'count': 13}))]\n"
     ]
    }
   ],
   "source": [
    "def join_refgene_and_counts(refGene, taxid_geneid_count_refseq):\n",
    "    '''\n",
    "    Combine the refGene information about the genes with the citation\n",
    "    count information.\n",
    "    '''\n",
    "    refseqid_refgene = refGene.map(lambda x: (x['name'], x))\n",
    "    \n",
    "    print refseqid_refgene.take(1)\n",
    "    \n",
    "    refseqid_count = taxid_geneid_count_refseq.map(lambda x: (x[1][1], x[1][0]))\n",
    "    \n",
    "    print refseqid_count.take(1)\n",
    "    \n",
    "    refseqid_refgene_count = refseqid_refgene.join(refseqid_count)\n",
    "\n",
    "    print refseqid_refgene_count.take(1)\n",
    "    \n",
    "\n",
    "    return refseqid_refgene_count\n",
    "\n",
    "refseqid_refgene_count = join_refgene_and_counts(refGene, taxid_geneid_count_refseq)\n",
    "\n",
    "outfile = get_outfile('refgene-count')\n",
    "(refseqid_refgene_count.map(lambda x: \"{name}\\t{chrom}\\t{strand}\\t{txStart}\\t{txEnd}\\t{genomeTxStart}\\t{genomeTxEnd}\\t{cdsStart}\\t{cdsEnd}\\t{exonCount}\\t{exonStarts}\\t{exonEnds}\\t{geneName}\\t{count}\"\n",
    "                            .format(count=x[1][1], **x[1][0]))\n",
    " .saveAsTextFile(outfile))"
   ]
  },
  {
   "cell_type": "markdown",
   "metadata": {},
   "source": [
    "## Run the entire pipeline"
   ]
  },
  {
   "cell_type": "code",
   "execution_count": 29,
   "metadata": {
    "collapsed": false
   },
   "outputs": [
    {
     "name": "stdout",
     "output_type": "stream",
     "text": [
      "[((9, 1246500), {'count': 1})]\n",
      "[(u'-', (9, 1246500)), (u'-', (9, 1246501)), (u'-', (9, 1246502)), (u'-', (9, 1246503)), (u'-', (9, 1246504)), (u'-', (9, 1246505)), (u'-', (9, 1246509)), (u'-', (9, 1246510)), (u'-', (9, 3722426)), (u'-', (9, 8655732))]\n",
      "[(u'XM_009103278', (3711, 103827740))]\n",
      "[((81985, 17878053), u'XM_006284442')]\n",
      "[((670483, 19307480), ({'count': 1}, u'XM_007869167'))]\n",
      "[((8030, 100195418), {'count': 1})]\n",
      "[(u'NM_033083', {'exonEnds': u'15469389,15471514,15473730,15476045,15478082,15484120', 'geneName': u'EAF1', 'chromOffset': 492449994, 'name': u'NM_033083', 'txStart': u'15469063', 'exonCount': u'6', 'strand': u'+', 'cdsEnd': u'15480662', 'genomeTxStart': 507919057, 'geneLength': 15057, 'cdsStart': u'15469286', 'chrom': u'chr3', 'genomeTxEnd': 507934114, 'txEnd': u'15484120', 'exonStarts': u'15469063,15471419,15473593,15475854,15477848,15480615'})]\n",
      "[(u'XM_007595264', {'count': 1})]\n",
      "[(u'NM_004265', ({'exonEnds': u'61596069,61605360,61608003,61608197,61615756,61624543,61625002,61630541,61630850,61631258,61632749,61634826', 'geneName': u'FADS2', 'chromOffset': 1971178450, 'name': u'NM_004265', 'txStart': u'61595504', 'exonCount': u'12', 'strand': u'+', 'cdsEnd': u'61633161', 'genomeTxStart': 2032773954, 'geneLength': 39322, 'cdsStart': u'61595862', 'chrom': u'chr11', 'genomeTxEnd': 2032813276, 'txEnd': u'61634826', 'exonStarts': u'61595504,61605249,61607805,61608095,61615630,61624482,61624925,61630443,61630753,61631178,61632623,61633109'}, {'count': 113}))]\n"
     ]
    }
   ],
   "source": [
    "assembly = 'hg19'\n",
    "output_dir = op.join(data_dir, assembly)    # where all of the intermediate output will be stored\n",
    "base_ucsc_dir = op.join(data_dir, 'ucsc-data/{}'.format(assembly))  # where all of the files downloaded from UCSC will be stored\n",
    "\n",
    "cum_chrom_lengths = get_chrom_lengths(base_ucsc_dir)\n",
    "refGene = load_refgene_data(base_ucsc_dir)\n",
    "taxid_geneid_count = load_gene_counts(op.join(data_dir, 'genbank-data/'))\n",
    "refseqid_taxid_geneid = load_refseq2gene(op.join(data_dir, 'genbank-data'))\n",
    "taxid_geneid_count_refseq = join_counts_and_ids(refseqid_taxid_geneid, taxid_geneid_count)\n",
    "refseqid_refgene_count = join_refgene_and_counts(refGene, taxid_geneid_count_refseq)\n",
    "\n",
    "outfile = get_outfile('refgene-count')\n",
    "(refseqid_refgene_count.map(lambda x: \"{name}\\t{chrom}\\t{strand}\\t{txStart}\\t{txEnd}\\t{genomeTxStart}\\t{genomeTxEnd}\\t{cdsStart}\\t{cdsEnd}\\t{exonCount}\\t{exonStarts}\\t{exonEnds}\\t{geneName}\\t{count}\"\n",
    "                            .format(count=x[1][1]['count'], **x[1][0]))\n",
    " .saveAsTextFile(outfile))"
   ]
  },
  {
   "cell_type": "code",
   "execution_count": 36,
   "metadata": {
    "collapsed": false
   },
   "outputs": [
    {
     "data": {
      "text/plain": [
       "[(u'NM_000546',\n",
       "  ({'cdsEnd': u'7579912',\n",
       "    'cdsStart': u'7572926',\n",
       "    'chrom': u'chr17',\n",
       "    'chromOffset': 2655442424,\n",
       "    'exonCount': u'11',\n",
       "    'exonEnds': u'7573008,7574033,7576926,7577155,7577608,7578289,7578554,7579590,7579721,7579940,7590868',\n",
       "    'exonStarts': u'7571719,7573926,7576852,7577018,7577498,7578176,7578370,7579311,7579699,7579838,7590694',\n",
       "    'geneLength': 19149,\n",
       "    'geneName': u'TP53',\n",
       "    'genomeTxEnd': 2663033292,\n",
       "    'genomeTxStart': 2663014143,\n",
       "    'name': u'NM_000546',\n",
       "    'strand': u'-',\n",
       "    'txEnd': u'7590868',\n",
       "    'txStart': u'7571719'},\n",
       "   {'count': 6622})),\n",
       " (u'NM_001276761',\n",
       "  ({'cdsEnd': u'7579569',\n",
       "    'cdsStart': u'7572926',\n",
       "    'chrom': u'chr17',\n",
       "    'chromOffset': 2655442424,\n",
       "    'exonCount': u'11',\n",
       "    'exonEnds': u'7573008,7574033,7576926,7577155,7577608,7578289,7578554,7579590,7579721,7579937,7590868',\n",
       "    'exonStarts': u'7571719,7573926,7576852,7577018,7577498,7578176,7578370,7579311,7579699,7579838,7590694',\n",
       "    'geneLength': 19149,\n",
       "    'geneName': u'TP53',\n",
       "    'genomeTxEnd': 2663033292,\n",
       "    'genomeTxStart': 2663014143,\n",
       "    'name': u'NM_001276761',\n",
       "    'strand': u'-',\n",
       "    'txEnd': u'7590868',\n",
       "    'txStart': u'7571719'},\n",
       "   {'count': 6622})),\n",
       " (u'NM_001276760',\n",
       "  ({'cdsEnd': u'7579569',\n",
       "    'cdsStart': u'7572926',\n",
       "    'chrom': u'chr17',\n",
       "    'chromOffset': 2655442424,\n",
       "    'exonCount': u'11',\n",
       "    'exonEnds': u'7573008,7574033,7576926,7577155,7577608,7578289,7578554,7579590,7579721,7579940,7590868',\n",
       "    'exonStarts': u'7571719,7573926,7576852,7577018,7577498,7578176,7578370,7579311,7579699,7579838,7590694',\n",
       "    'geneLength': 19149,\n",
       "    'geneName': u'TP53',\n",
       "    'genomeTxEnd': 2663033292,\n",
       "    'genomeTxStart': 2663014143,\n",
       "    'name': u'NM_001276760',\n",
       "    'strand': u'-',\n",
       "    'txEnd': u'7590868',\n",
       "    'txStart': u'7571719'},\n",
       "   {'count': 6622})),\n",
       " (u'NM_001126118',\n",
       "  ({'cdsEnd': u'7579569',\n",
       "    'cdsStart': u'7572926',\n",
       "    'chrom': u'chr17',\n",
       "    'chromOffset': 2655442424,\n",
       "    'exonCount': u'10',\n",
       "    'exonEnds': u'7573008,7574033,7576926,7577155,7577608,7578289,7578554,7579590,7579940,7590868',\n",
       "    'exonStarts': u'7571719,7573926,7576852,7577018,7577498,7578176,7578370,7579311,7579699,7590694',\n",
       "    'geneLength': 19149,\n",
       "    'geneName': u'TP53',\n",
       "    'genomeTxEnd': 2663033292,\n",
       "    'genomeTxStart': 2663014143,\n",
       "    'name': u'NM_001126118',\n",
       "    'strand': u'-',\n",
       "    'txEnd': u'7590868',\n",
       "    'txStart': u'7571719'},\n",
       "   {'count': 6622})),\n",
       " (u'NM_001126116',\n",
       "  ({'cdsEnd': u'7578533',\n",
       "    'cdsStart': u'7576624',\n",
       "    'chrom': u'chr17',\n",
       "    'chromOffset': 2655442424,\n",
       "    'exonCount': u'8',\n",
       "    'exonEnds': u'7573008,7574033,7576657,7576926,7577155,7577608,7578289,7578811',\n",
       "    'exonStarts': u'7571719,7573926,7576524,7576852,7577018,7577498,7578176,7578370',\n",
       "    'geneLength': 7092,\n",
       "    'geneName': u'TP53',\n",
       "    'genomeTxEnd': 2663021235,\n",
       "    'genomeTxStart': 2663014143,\n",
       "    'name': u'NM_001126116',\n",
       "    'strand': u'-',\n",
       "    'txEnd': u'7578811',\n",
       "    'txStart': u'7571719'},\n",
       "   {'count': 6622})),\n",
       " (u'NM_001126117',\n",
       "  ({'cdsEnd': u'7578533',\n",
       "    'cdsStart': u'7576536',\n",
       "    'chrom': u'chr17',\n",
       "    'chromOffset': 2655442424,\n",
       "    'exonCount': u'8',\n",
       "    'exonEnds': u'7573008,7574033,7576584,7576926,7577155,7577608,7578289,7578811',\n",
       "    'exonStarts': u'7571719,7573926,7576524,7576852,7577018,7577498,7578176,7578370',\n",
       "    'geneLength': 7092,\n",
       "    'geneName': u'TP53',\n",
       "    'genomeTxEnd': 2663021235,\n",
       "    'genomeTxStart': 2663014143,\n",
       "    'name': u'NM_001126117',\n",
       "    'strand': u'-',\n",
       "    'txEnd': u'7578811',\n",
       "    'txStart': u'7571719'},\n",
       "   {'count': 6622})),\n",
       " (u'NM_001126114',\n",
       "  ({'cdsEnd': u'7579912',\n",
       "    'cdsStart': u'7576624',\n",
       "    'chrom': u'chr17',\n",
       "    'chromOffset': 2655442424,\n",
       "    'exonCount': u'12',\n",
       "    'exonEnds': u'7573008,7574033,7576657,7576926,7577155,7577608,7578289,7578554,7579590,7579721,7579940,7590868',\n",
       "    'exonStarts': u'7571719,7573926,7576524,7576852,7577018,7577498,7578176,7578370,7579311,7579699,7579838,7590694',\n",
       "    'geneLength': 19149,\n",
       "    'geneName': u'TP53',\n",
       "    'genomeTxEnd': 2663033292,\n",
       "    'genomeTxStart': 2663014143,\n",
       "    'name': u'NM_001126114',\n",
       "    'strand': u'-',\n",
       "    'txEnd': u'7590868',\n",
       "    'txStart': u'7571719'},\n",
       "   {'count': 6622})),\n",
       " (u'NM_001126115',\n",
       "  ({'cdsEnd': u'7578533',\n",
       "    'cdsStart': u'7572926',\n",
       "    'chrom': u'chr17',\n",
       "    'chromOffset': 2655442424,\n",
       "    'exonCount': u'7',\n",
       "    'exonEnds': u'7573008,7574033,7576926,7577155,7577608,7578289,7578811',\n",
       "    'exonStarts': u'7571719,7573926,7576852,7577018,7577498,7578176,7578370',\n",
       "    'geneLength': 7092,\n",
       "    'geneName': u'TP53',\n",
       "    'genomeTxEnd': 2663021235,\n",
       "    'genomeTxStart': 2663014143,\n",
       "    'name': u'NM_001126115',\n",
       "    'strand': u'-',\n",
       "    'txEnd': u'7578811',\n",
       "    'txStart': u'7571719'},\n",
       "   {'count': 6622})),\n",
       " (u'NM_001126112',\n",
       "  ({'cdsEnd': u'7579912',\n",
       "    'cdsStart': u'7572926',\n",
       "    'chrom': u'chr17',\n",
       "    'chromOffset': 2655442424,\n",
       "    'exonCount': u'11',\n",
       "    'exonEnds': u'7573008,7574033,7576926,7577155,7577608,7578289,7578554,7579590,7579721,7579937,7590868',\n",
       "    'exonStarts': u'7571719,7573926,7576852,7577018,7577498,7578176,7578370,7579311,7579699,7579838,7590694',\n",
       "    'geneLength': 19149,\n",
       "    'geneName': u'TP53',\n",
       "    'genomeTxEnd': 2663033292,\n",
       "    'genomeTxStart': 2663014143,\n",
       "    'name': u'NM_001126112',\n",
       "    'strand': u'-',\n",
       "    'txEnd': u'7590868',\n",
       "    'txStart': u'7571719'},\n",
       "   {'count': 6622})),\n",
       " (u'NM_001126113',\n",
       "  ({'cdsEnd': u'7579912',\n",
       "    'cdsStart': u'7576536',\n",
       "    'chrom': u'chr17',\n",
       "    'chromOffset': 2655442424,\n",
       "    'exonCount': u'12',\n",
       "    'exonEnds': u'7573008,7574033,7576584,7576926,7577155,7577608,7578289,7578554,7579590,7579721,7579940,7590868',\n",
       "    'exonStarts': u'7571719,7573926,7576524,7576852,7577018,7577498,7578176,7578370,7579311,7579699,7579838,7590694',\n",
       "    'geneLength': 19149,\n",
       "    'geneName': u'TP53',\n",
       "    'genomeTxEnd': 2663033292,\n",
       "    'genomeTxStart': 2663014143,\n",
       "    'name': u'NM_001126113',\n",
       "    'strand': u'-',\n",
       "    'txEnd': u'7590868',\n",
       "    'txStart': u'7571719'},\n",
       "   {'count': 6622})),\n",
       " (u'NM_001276695',\n",
       "  ({'cdsEnd': u'7579569',\n",
       "    'cdsStart': u'7576536',\n",
       "    'chrom': u'chr17',\n",
       "    'chromOffset': 2655442424,\n",
       "    'exonCount': u'12',\n",
       "    'exonEnds': u'7573008,7574033,7576584,7576926,7577155,7577608,7578289,7578554,7579590,7579721,7579940,7590868',\n",
       "    'exonStarts': u'7571719,7573926,7576524,7576852,7577018,7577498,7578176,7578370,7579311,7579699,7579838,7590694',\n",
       "    'geneLength': 19149,\n",
       "    'geneName': u'TP53',\n",
       "    'genomeTxEnd': 2663033292,\n",
       "    'genomeTxStart': 2663014143,\n",
       "    'name': u'NM_001276695',\n",
       "    'strand': u'-',\n",
       "    'txEnd': u'7590868',\n",
       "    'txStart': u'7571719'},\n",
       "   {'count': 6622})),\n",
       " (u'NM_001276697',\n",
       "  ({'cdsEnd': u'7578452',\n",
       "    'cdsStart': u'7572926',\n",
       "    'chrom': u'chr17',\n",
       "    'chromOffset': 2655442424,\n",
       "    'exonCount': u'7',\n",
       "    'exonEnds': u'7573008,7574033,7576926,7577155,7577608,7578289,7578811',\n",
       "    'exonStarts': u'7571719,7573926,7576852,7577018,7577498,7578176,7578370',\n",
       "    'geneLength': 7092,\n",
       "    'geneName': u'TP53',\n",
       "    'genomeTxEnd': 2663021235,\n",
       "    'genomeTxStart': 2663014143,\n",
       "    'name': u'NM_001276697',\n",
       "    'strand': u'-',\n",
       "    'txEnd': u'7578811',\n",
       "    'txStart': u'7571719'},\n",
       "   {'count': 6622})),\n",
       " (u'NM_001276696',\n",
       "  ({'cdsEnd': u'7579569',\n",
       "    'cdsStart': u'7576624',\n",
       "    'chrom': u'chr17',\n",
       "    'chromOffset': 2655442424,\n",
       "    'exonCount': u'12',\n",
       "    'exonEnds': u'7573008,7574033,7576657,7576926,7577155,7577608,7578289,7578554,7579590,7579721,7579940,7590868',\n",
       "    'exonStarts': u'7571719,7573926,7576524,7576852,7577018,7577498,7578176,7578370,7579311,7579699,7579838,7590694',\n",
       "    'geneLength': 19149,\n",
       "    'geneName': u'TP53',\n",
       "    'genomeTxEnd': 2663033292,\n",
       "    'genomeTxStart': 2663014143,\n",
       "    'name': u'NM_001276696',\n",
       "    'strand': u'-',\n",
       "    'txEnd': u'7590868',\n",
       "    'txStart': u'7571719'},\n",
       "   {'count': 6622})),\n",
       " (u'NM_001276699',\n",
       "  ({'cdsEnd': u'7578452',\n",
       "    'cdsStart': u'7576536',\n",
       "    'chrom': u'chr17',\n",
       "    'chromOffset': 2655442424,\n",
       "    'exonCount': u'8',\n",
       "    'exonEnds': u'7573008,7574033,7576584,7576926,7577155,7577608,7578289,7578811',\n",
       "    'exonStarts': u'7571719,7573926,7576524,7576852,7577018,7577498,7578176,7578370',\n",
       "    'geneLength': 7092,\n",
       "    'geneName': u'TP53',\n",
       "    'genomeTxEnd': 2663021235,\n",
       "    'genomeTxStart': 2663014143,\n",
       "    'name': u'NM_001276699',\n",
       "    'strand': u'-',\n",
       "    'txEnd': u'7578811',\n",
       "    'txStart': u'7571719'},\n",
       "   {'count': 6622})),\n",
       " (u'NM_001276698',\n",
       "  ({'cdsEnd': u'7578452',\n",
       "    'cdsStart': u'7576624',\n",
       "    'chrom': u'chr17',\n",
       "    'chromOffset': 2655442424,\n",
       "    'exonCount': u'8',\n",
       "    'exonEnds': u'7573008,7574033,7576657,7576926,7577155,7577608,7578289,7578811',\n",
       "    'exonStarts': u'7571719,7573926,7576524,7576852,7577018,7577498,7578176,7578370',\n",
       "    'geneLength': 7092,\n",
       "    'geneName': u'TP53',\n",
       "    'genomeTxEnd': 2663021235,\n",
       "    'genomeTxStart': 2663014143,\n",
       "    'name': u'NM_001276698',\n",
       "    'strand': u'-',\n",
       "    'txEnd': u'7578811',\n",
       "    'txStart': u'7571719'},\n",
       "   {'count': 6622}))]"
      ]
     },
     "execution_count": 36,
     "metadata": {},
     "output_type": "execute_result"
    }
   ],
   "source": [
    "refseqid_refgene_count.filter(lambda x: x[1][0]['geneName'] == 'TP53').collect()"
   ]
  },
  {
   "cell_type": "code",
   "execution_count": 31,
   "metadata": {
    "collapsed": false
   },
   "outputs": [],
   "source": [
    "outfile = get_outfile('refgene-count')\n",
    "(refseqid_refgene_count.map(lambda x: \"{name}\\t{chrom}\\t{strand}\\t{txStart}\\t{txEnd}\\t{genomeTxStart}\\t{genomeTxEnd}\\t{cdsStart}\\t{cdsEnd}\\t{exonCount}\\t{exonStarts}\\t{exonEnds}\\t{geneName}\\t{count}\"\n",
    "                            .format(count=x[1][1]['count'], **x[1][0]))\n",
    " .saveAsTextFile(outfile))"
   ]
  },
  {
   "cell_type": "code",
   "execution_count": null,
   "metadata": {
    "collapsed": false
   },
   "outputs": [],
   "source": [
    "refseqid_refgene_count.take(1)"
   ]
  },
  {
   "cell_type": "code",
   "execution_count": 120,
   "metadata": {
    "collapsed": false
   },
   "outputs": [],
   "source": [
    "outfile = get_outfile('refgene-count-chr1')\n",
    "(refseqid_refgene_count.filter(lambda x: x[1][0]['chrom'] == 'chr1').map(lambda x: \"{name}\\t{chrom}\\t{strand}\\t{txStart}\\t{txEnd}\\t{genomeTxStart}\\t{genomeTxEnd}\\t{cdsStart}\\t{cdsEnd}\\t{exonCount}\\t{exonStarts}\\t{exonEnds}\\t{geneName}\\t{count}\"\n",
    "                            .format(count=x[1][1]['count'], **x[1][0]))\n",
    " .saveAsTextFile(outfile))"
   ]
  },
  {
   "cell_type": "code",
   "execution_count": 119,
   "metadata": {
    "collapsed": false
   },
   "outputs": [
    {
     "name": "stdout",
     "output_type": "stream",
     "text": [
      "/data/hg19/genbank-output/refgene-count-chr1\n"
     ]
    }
   ],
   "source": [
    "print outfile"
   ]
  },
  {
   "cell_type": "code",
   "execution_count": null,
   "metadata": {
    "collapsed": false
   },
   "outputs": [],
   "source": []
  }
 ],
 "metadata": {
  "kernelspec": {
   "display_name": "Python 2",
   "language": "python",
   "name": "python2"
  },
  "language_info": {
   "codemirror_mode": {
    "name": "ipython",
    "version": 2
   },
   "file_extension": ".py",
   "mimetype": "text/x-python",
   "name": "python",
   "nbconvert_exporter": "python",
   "pygments_lexer": "ipython2",
   "version": "2.7.11"
  }
 },
 "nbformat": 4,
 "nbformat_minor": 0
}
