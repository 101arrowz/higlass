{
 "metadata": {
  "name": "",
  "signature": "sha256:662a67676a13487b345d6f9ff9813e9debecc7ad8babe8c241b4bcf8c4c23773"
 },
 "nbformat": 3,
 "nbformat_minor": 0,
 "worksheets": [
  {
   "cells": [
    {
     "cell_type": "code",
     "collapsed": false,
     "input": [
      "%load_ext autoreload\n",
      "%autoreload 2\n",
      "%pylab inline\n",
      "\n",
      "import os.path as op\n",
      "base_dir = '/data/'"
     ],
     "language": "python",
     "metadata": {},
     "outputs": [
      {
       "output_type": "stream",
       "stream": "stdout",
       "text": [
        "The autoreload extension is already loaded. To reload it, use:\n",
        "  %reload_ext autoreload\n",
        "Populating the interactive namespace from numpy and matplotlib\n"
       ]
      }
     ],
     "prompt_number": 67
    },
    {
     "cell_type": "markdown",
     "metadata": {},
     "source": [
      "## Utility functions"
     ]
    },
    {
     "cell_type": "code",
     "collapsed": false,
     "input": [
      "assembly = 'hg19'"
     ],
     "language": "python",
     "metadata": {},
     "outputs": [],
     "prompt_number": 73
    },
    {
     "cell_type": "code",
     "collapsed": false,
     "input": [
      "output_dir = op.join('/data/', assembly)    # where all of the intermediate output will be stored\n",
      "base_ucsc_dir = op.join('/data/ucsc-data/{}'.format(assembly))  # where all of the files downloaded from UCSC will be stored\n",
      "\n",
      "import shutil\n",
      "\n",
      "# create a directory to store intermediate output files\n",
      "def get_outfile(table_name):\n",
      "    outfile = op.join(output_dir, 'genbank-output/{}'.format(table_name))\n",
      "    if op.exists(outfile):\n",
      "        shutil.rmtree(outfile)\n",
      "    return outfile"
     ],
     "language": "python",
     "metadata": {},
     "outputs": [],
     "prompt_number": 104
    },
    {
     "cell_type": "markdown",
     "metadata": {},
     "source": [
      "## Load the chromosome lengths"
     ]
    },
    {
     "cell_type": "code",
     "collapsed": false,
     "input": [
      "def get_chrom_lengths(base_dir):\n",
      "    '''\n",
      "    Get the cumulative start positions for the chromosomes in an assembly. The chromosomes\n",
      "    will be sorted alphabetically by their names.\n",
      "    \n",
      "    :param base_dir: A directory containing meta data about a genome assembly\n",
      "    :return: A dictionary of the from { 'chr2': 234323432 }, showing at which position\n",
      "             chromosomes start.\n",
      "    '''\n",
      "    chromLengths = (sc.textFile(op.join(base_dir, 'chromInfo.txt.gz'))\n",
      "                    .map(lambda x: x.split('\\t'))\n",
      "                    .map(lambda x: {'chrom': x[0], 'length': int(x[1]) })\n",
      "                    .collect())\n",
      "    \n",
      "    cum_chrom_lengths = {}\n",
      "    curr_cum_lengths = 0\n",
      "    \n",
      "    for x in sorted(chromLengths, key=lambda x: -x['length']):\n",
      "        cum_chrom_lengths[x['chrom']] = curr_cum_lengths\n",
      "        curr_cum_lengths += x['length']\n",
      "        \n",
      "    return cum_chrom_lengths\n",
      "\n",
      "cum_chrom_lengths = get_chrom_lengths(base_ucsc_dir)\n",
      "\n",
      "print cum_chrom_lengths['chr1'], cum_chrom_lengths['chr2'], cum_chrom_lengths['chr3']"
     ],
     "language": "python",
     "metadata": {},
     "outputs": [
      {
       "output_type": "stream",
       "stream": "stdout",
       "text": [
        "0 249250621 492449994\n"
       ]
      }
     ],
     "prompt_number": 86
    },
    {
     "cell_type": "markdown",
     "metadata": {},
     "source": [
      "## Loading the refgene data"
     ]
    },
    {
     "cell_type": "code",
     "collapsed": false,
     "input": [
      "from pyspark import SparkContext, SparkConf\n",
      "\n",
      "\n",
      "def parse_exon_positions(exon_positions_str):\n",
      "    return map(int, exon_positions_str.strip(\",\").split(','))\n",
      "\n",
      "def load_refgene_data(base_dir):\n",
      "    '''\n",
      "    Load the UCSC refgene data for a particular assembly.\n",
      "    \n",
      "    :param base_dir: The directory which contains the refGene.txt.gz file.\n",
      "    '''\n",
      "    refGene = (sc.textFile(op.join(base_dir, 'refGene.txt.gz'))\n",
      "               .map(lambda x: x.split('\\t'))\n",
      "               .map(lambda x: {'name': x[1],\n",
      "                               'chrom': x[2],\n",
      "                               'strand': x[3],\n",
      "                               'txStart': x[4],\n",
      "                               'txEnd': x[5],\n",
      "                               'cdsStart': x[6],\n",
      "                               'cdsEnd': x[7],\n",
      "                               'exonCount': x[8],\n",
      "                               'exonStarts': x[9].strip(','),\n",
      "                               'exonEnds': x[10].strip(','),\n",
      "                               'chromOffset': cum_chrom_lengths[x[2]],\n",
      "                               'genomeTxStart': cum_chrom_lengths[x[2]] + int(x[4]),\n",
      "                               'genomeTxEnd': cum_chrom_lengths[x[2]] + int(x[5]),\n",
      "                               'geneName': x[12],\n",
      "                               'geneLength': int(x[5]) - int(x[4]),\n",
      "                               })\n",
      "            )\n",
      "    \n",
      "    return refGene\n",
      "\n",
      "refGene = load_refgene_data(base_ucsc_dir)\n",
      "### add the genomic position\n",
      "print refGene.take(1)"
     ],
     "language": "python",
     "metadata": {},
     "outputs": [
      {
       "output_type": "stream",
       "stream": "stdout",
       "text": [
        "[{'exonEnds': u'15469389,15471514,15473730,15476045,15478082,15484120', 'geneName': u'EAF1', 'chromOffset': 492449994, 'name': u'NM_033083', 'txStart': u'15469063', 'exonCount': u'6', 'strand': u'+', 'cdsEnd': u'15480662', 'genomeTxStart': 507919057, 'geneLength': 15057, 'cdsStart': u'15469286', 'chrom': u'chr3', 'genomeTxEnd': 507934114, 'txEnd': u'15484120', 'exonStarts': u'15469063,15471419,15473593,15475854,15477848,15480615'}]\n"
       ]
      }
     ],
     "prompt_number": 89
    },
    {
     "cell_type": "markdown",
     "metadata": {},
     "source": []
    },
    {
     "cell_type": "markdown",
     "metadata": {},
     "source": [
      "## Count the references\n",
      "\n",
      "For this exercise, the result should be a tsv with the following columns:\n",
      "\n",
      "```\n",
      "<taxId> <geneId> <refSeqID> <citation count>\n",
      "```"
     ]
    },
    {
     "cell_type": "code",
     "collapsed": false,
     "input": [
      "def load_gene_counts(genbank_dir):\n",
      "    gene2pubmed = (sc.textFile(op.join(genbank_dir, \"gene2pubmed\"))\n",
      "                     .filter(lambda x: x[0] != '#')\n",
      "                     .map(lambda x: x.split('\\t'))\n",
      "                     .map(lambda p: {'taxid': int(p[0]), 'geneid': int(p[1]), 'pmid': int(p[2]), 'count': 1})\n",
      "                     .map(lambda x: ((x['taxid'], x['geneid']), {'count': x['count']}))\n",
      "                     )\n",
      "    \n",
      "    def reduce_count(r1, r2):\n",
      "        '''\n",
      "        A reduce function that simply counts the number of elements in the table.\n",
      "        \n",
      "        @param r1: A Row\n",
      "        @param r2: A Row\n",
      "        @return: A new Row, equal to the first Row with a summed count.\n",
      "        '''\n",
      "        #print >>sys.stderr, \"r1:\", r1\n",
      "        r1['count'] += r2['count']\n",
      "        return r1\n",
      "\n",
      "    print gene2pubmed.take(1)\n",
      "    reduced_gene2pubmed = gene2pubmed.reduceByKey(reduce_count)\n",
      "    \n",
      "    outfile = get_outfile('taxid-geneid-count')\n",
      "\n",
      "    (reduced_gene2pubmed\n",
      "        .map(lambda x: \"{}\\t{}\\t{}\".format(x[0][0], x[0][1], x[1]['count']))\n",
      "        .saveAsTextFile(outfile)\n",
      "        )\n",
      "    \n",
      "    return reduced_gene2pubmed\n",
      "\n",
      "\n",
      "taxid_geneid_count = load_gene_counts('/data/genbank-data/')\n",
      "print taxid_geneid_count.take(1)"
     ],
     "language": "python",
     "metadata": {},
     "outputs": [
      {
       "output_type": "stream",
       "stream": "stdout",
       "text": [
        "[((9, 1246500), {'count': 1})]\n",
        "[((6279, 6095747), {'count': 1})]"
       ]
      },
      {
       "output_type": "stream",
       "stream": "stdout",
       "text": [
        "\n"
       ]
      }
     ],
     "prompt_number": 93
    },
    {
     "cell_type": "markdown",
     "metadata": {},
     "source": [
      "## Load the gene2refseq annotations"
     ]
    },
    {
     "cell_type": "code",
     "collapsed": false,
     "input": [
      "def load_refseq2gene(genbank_base_dir):\n",
      "    '''\n",
      "    Get the mapping from refseq IDs to gene IDs\n",
      "    \n",
      "    :param genbank_base_dir: The directory that contains all of the genbank files.\n",
      "    :return: A set of tuples of the form (refseq_id, (taxid, geneid))\n",
      "    '''\n",
      "    gene2refseq = (sc.textFile(op.join(base_dir, 'genbank-data/gene2refseq'))\n",
      "                   .filter(lambda x: x[0] != '#')\n",
      "                   .map(lambda x: x.split('\\t'))\n",
      "                   .map(lambda p: {'taxid': int(p[0]), 'geneid': int(p[1]), 'refseqid': p[3] })\n",
      "                   .map(lambda x: (x['refseqid'].split('.')[0], (x['taxid'], x['geneid'])))\n",
      "                   )\n",
      "    \n",
      "    def reduce_by_refseq_id(r1, r2):\n",
      "        # because we're just looking for a mapping from geneId to refseqId, we just need to throw\n",
      "        # away single entries with identical refseq ids\n",
      "        return r1\n",
      "    \n",
      "    print gene2refseq.take(10)\n",
      "    refseq2gene = gene2refseq.reduceByKey(reduce_by_refseq_id)\n",
      "    print refseq2gene.take(1)\n",
      "    \n",
      "    outfile = get_outfile('refseqid-taxid-geneid')\n",
      "\n",
      "    (refseq2gene.map(lambda x: \"{}\\t{}\\t{}\".format(x[0], x[1][0], x[1][1]))\n",
      "         .saveAsTextFile(outfile)\n",
      "    )\n",
      "    return refseq2gene\n",
      "\n",
      "refseqid_taxid_geneid = load_refseq2gene('/data/genbank-data')"
     ],
     "language": "python",
     "metadata": {},
     "outputs": [
      {
       "output_type": "stream",
       "stream": "stdout",
       "text": [
        "[(u'-', (9, 1246500)), (u'-', (9, 1246501)), (u'-', (9, 1246502)), (u'-', (9, 1246503)), (u'-', (9, 1246504)), (u'-', (9, 1246505)), (u'-', (9, 1246509)), (u'-', (9, 1246510)), (u'-', (9, 3722426)), (u'-', (9, 8655732))]\n",
        "[(u'XM_009054708', (225164, 20243866))]"
       ]
      },
      {
       "output_type": "stream",
       "stream": "stdout",
       "text": [
        "\n"
       ]
      }
     ],
     "prompt_number": 94
    },
    {
     "cell_type": "markdown",
     "metadata": {},
     "source": [
      "## Join the reference counts and refseq to geneid translations"
     ]
    },
    {
     "cell_type": "code",
     "collapsed": false,
     "input": [
      "print refseqid_taxid_geneid.take(1)"
     ],
     "language": "python",
     "metadata": {},
     "outputs": [
      {
       "output_type": "stream",
       "stream": "stdout",
       "text": [
        "[(u'XM_009054708', (225164, 20243866))]\n"
       ]
      }
     ],
     "prompt_number": 100
    },
    {
     "cell_type": "code",
     "collapsed": false,
     "input": [
      "def join_counts_and_ids(refseqid_taxid_geneid, taxid_geneid_count):\n",
      "    taxid_geneid_refseq = refseqid_taxid_geneid.map(lambda x: (x[1], x[0]))\n",
      "    \n",
      "    \n",
      "    '''    \n",
      "    taxid_geneid_refseq = (sc.textFile(op.join(output_dir, 'genbank-output/refseqid-taxid-geneid'))\n",
      "                   .map(lambda x: x.split())\n",
      "                   .map(lambda x: ((int(x[1]), int(x[2])), x[0]))\n",
      "                        )\n",
      "    '''\n",
      "    print taxid_geneid_refseq.take(1)\n",
      "    \n",
      "    '''\n",
      "    (sc.textFile(op.join(output_dir, 'genbank-output/taxid-geneid-count'))\n",
      "                          .map(lambda x: x.split())\n",
      "                          .map(lambda x: ((int(x[0]), int(x[1])), int(x[2])))\n",
      "                          )\n",
      "    '''\n",
      "    taxid_geneid_count_refseq = taxid_geneid_count.join(taxid_geneid_refseq)\n",
      "    print taxid_geneid_count_refseq.take(1)\n",
      "    print taxid_geneid_count.take(1)\n",
      "    \n",
      "    outfile = get_outfile('taxid-geneid-refseqid-count')\n",
      "\n",
      "    (taxid_geneid_count_refseq.map(lambda x: \"{}\\t{}\\t{}\\t{}\".format(x[0][0],\n",
      "                                                                  x[0][1],\n",
      "                                                                  x[1][1],\n",
      "                                                                  x[1][0]))\n",
      "     .saveAsTextFile(outfile)\n",
      "     )\n",
      "    return taxid_geneid_count_refseq\n",
      "\n",
      "taxid_geneid_count_refseq = join_counts_and_ids(refseqid_taxid_geneid, taxid_geneid_count)"
     ],
     "language": "python",
     "metadata": {},
     "outputs": [
      {
       "output_type": "stream",
       "stream": "stdout",
       "text": [
        "[((225164, 20243866), u'XM_009054708')]\n",
        "[((6279, 6095747), ({'count': 1}, u'XM_001892259'))]"
       ]
      },
      {
       "output_type": "stream",
       "stream": "stdout",
       "text": [
        "\n",
        "[((6279, 6095747), {'count': 1})]"
       ]
      },
      {
       "output_type": "stream",
       "stream": "stdout",
       "text": [
        "\n"
       ]
      }
     ],
     "prompt_number": 101
    },
    {
     "cell_type": "markdown",
     "metadata": {},
     "source": [
      "## Join the refgene data with the count data"
     ]
    },
    {
     "cell_type": "code",
     "collapsed": false,
     "input": [
      "def join_refgene_and_counts(refGene, taxid_geneid_count_refseq):\n",
      "    '''\n",
      "    Combine the refGene information about the genes with the citation\n",
      "    count information.\n",
      "    '''\n",
      "    refseqid_refgene = refGene.map(lambda x: (x['name'], x))\n",
      "    \n",
      "    print refseqid_refgene.take(1)\n",
      "    \n",
      "    refseqid_count = taxid_geneid_count_refseq.map(lambda x: (x[1][1], x[1][0]))\n",
      "    \n",
      "    print refseqid_count.take(1)\n",
      "    \n",
      "    refseqid_refgene_count = refseqid_refgene.join(refseqid_count)\n",
      "\n",
      "    print refseqid_refgene_count.take(1)\n",
      "    \n",
      "\n",
      "    return refseqid_refgene_count\n",
      "\n",
      "refseqid_refgene_count = join_refgene_and_counts(refGene, taxid_geneid_count_refseq)\n",
      "\n",
      "outfile = get_outfile('refgene-count')\n",
      "(refseqid_refgene_count.map(lambda x: \"{name}\\t{chrom}\\t{strand}\\t{txStart}\\t{txEnd}\\t{genomeTxStart}\\t{genomeTxEnd}\\t{cdsStart}\\t{cdsEnd}\\t{exonCount}\\t{exonStarts}\\t{exonEnds}\\t{geneName}\\t{count}\"\n",
      "                            .format(count=x[1][1], **x[1][0]))\n",
      " .saveAsTextFile(outfile))"
     ],
     "language": "python",
     "metadata": {},
     "outputs": [
      {
       "output_type": "stream",
       "stream": "stdout",
       "text": [
        "[(u'NM_033083', {'exonEnds': u'15469389,15471514,15473730,15476045,15478082,15484120', 'geneName': u'EAF1', 'chromOffset': 492449994, 'name': u'NM_033083', 'txStart': u'15469063', 'exonCount': u'6', 'strand': u'+', 'cdsEnd': u'15480662', 'genomeTxStart': 507919057, 'geneLength': 15057, 'cdsStart': u'15469286', 'chrom': u'chr3', 'genomeTxEnd': 507934114, 'txEnd': u'15484120', 'exonStarts': u'15469063,15471419,15473593,15475854,15477848,15480615'})]\n",
        "[(u'XM_001892259', {'count': 1})]"
       ]
      },
      {
       "output_type": "stream",
       "stream": "stdout",
       "text": [
        "\n",
        "[(u'NM_001466', ({'exonEnds': u'42638630', 'geneName': u'FZD2', 'chromOffset': 2655442424, 'name': u'NM_001466', 'txStart': u'42634811', 'exonCount': u'1', 'strand': u'+', 'cdsEnd': u'42636754', 'genomeTxStart': 2698077235, 'exonStarts': u'42634811', 'cdsStart': u'42635056', 'chrom': u'chr17', 'genomeTxEnd': 2698081054, 'txEnd': u'42638630', 'geneLength': 3819}, {'count': 23}))]"
       ]
      },
      {
       "output_type": "stream",
       "stream": "stdout",
       "text": [
        "\n"
       ]
      }
     ],
     "prompt_number": 103
    },
    {
     "cell_type": "markdown",
     "metadata": {},
     "source": [
      "## Run the entire pipeline"
     ]
    },
    {
     "cell_type": "code",
     "collapsed": false,
     "input": [
      "assembly = 'mm10'\n",
      "output_dir = op.join('/data/', assembly)    # where all of the intermediate output will be stored\n",
      "base_ucsc_dir = op.join('/data/ucsc-data/{}'.format(assembly))  # where all of the files downloaded from UCSC will be stored\n",
      "\n",
      "cum_chrom_lengths = get_chrom_lengths(base_ucsc_dir)\n",
      "refGene = load_refgene_data(base_ucsc_dir)\n",
      "taxid_geneid_count = load_gene_counts('/data/genbank-data/')\n",
      "refseqid_taxid_geneid = load_refseq2gene('/data/genbank-data')\n",
      "taxid_geneid_count_refseq = join_counts_and_ids(refseqid_taxid_geneid, taxid_geneid_count)\n",
      "refseqid_refgene_count = join_refgene_and_counts(refGene, taxid_geneid_count_refseq)\n",
      "\n",
      "outfile = get_outfile('refgene-count')\n",
      "(refseqid_refgene_count.map(lambda x: \"{name}\\t{chrom}\\t{strand}\\t{txStart}\\t{txEnd}\\t{genomeTxStart}\\t{genomeTxEnd}\\t{cdsStart}\\t{cdsEnd}\\t{exonCount}\\t{exonStarts}\\t{exonEnds}\\t{geneName}\\t{count}\"\n",
      "                            .format(count=x[1][1], **x[1][0]))\n",
      " .saveAsTextFile(outfile))"
     ],
     "language": "python",
     "metadata": {},
     "outputs": [
      {
       "output_type": "stream",
       "stream": "stdout",
       "text": [
        "[((9, 1246500), {'count': 1})]\n",
        "[(u'-', (9, 1246500)), (u'-', (9, 1246501)), (u'-', (9, 1246502)), (u'-', (9, 1246503)), (u'-', (9, 1246504)), (u'-', (9, 1246505)), (u'-', (9, 1246509)), (u'-', (9, 1246510)), (u'-', (9, 3722426)), (u'-', (9, 8655732))]"
       ]
      },
      {
       "output_type": "stream",
       "stream": "stdout",
       "text": [
        "\n",
        "[(u'XM_009054708', (225164, 20243866))]"
       ]
      },
      {
       "output_type": "stream",
       "stream": "stdout",
       "text": [
        "\n",
        "[((225164, 20243866), u'XM_009054708')]"
       ]
      },
      {
       "output_type": "stream",
       "stream": "stdout",
       "text": [
        "\n",
        "[((6279, 6095747), ({'count': 1}, u'XM_001892259'))]"
       ]
      },
      {
       "output_type": "stream",
       "stream": "stdout",
       "text": [
        "\n",
        "[((6279, 6095747), {'count': 1})]"
       ]
      },
      {
       "output_type": "stream",
       "stream": "stdout",
       "text": [
        "\n",
        "[(u'NM_018885', {'exonEnds': u'73260876,73264979,73265709,73266708,73267832,73269620', 'geneName': u'Irx4', 'chromOffset': 1943853082, 'name': u'NM_018885', 'txStart': u'73260496', 'exonCount': u'6', 'strand': u'+', 'cdsEnd': u'73269034', 'genomeTxStart': 2017113578, 'geneLength': 9124, 'cdsStart': u'73264934', 'chrom': u'chr13', 'genomeTxEnd': 2017122702, 'txEnd': u'73269620', 'exonStarts': u'73260496,73264847,73265457,73266595,73267503,73268225'})]"
       ]
      },
      {
       "output_type": "stream",
       "stream": "stdout",
       "text": [
        "\n",
        "[(u'XM_001892259', {'count': 1})]"
       ]
      },
      {
       "output_type": "stream",
       "stream": "stdout",
       "text": [
        "\n",
        "[(u'NM_011988', ({'exonEnds': u'90385533,90386380,90386577,90386946,90387154,90387449,90387760,90388486,90388899,90389938', 'geneName': u'Slc27a3', 'chromOffset': 548616494, 'name': u'NM_011988', 'txStart': u'90385232', 'exonCount': u'10', 'strand': u'-', 'cdsEnd': u'90389790', 'genomeTxStart': 639001726, 'exonStarts': u'90385232,90386249,90386479,90386747,90387063,90387254,90387635,90388327,90388689,90389171', 'cdsStart': u'90385356', 'chrom': u'chr3', 'genomeTxEnd': 639006432, 'txEnd': u'90389938', 'geneLength': 4706}, {'count': 20}))]"
       ]
      },
      {
       "output_type": "stream",
       "stream": "stdout",
       "text": [
        "\n"
       ]
      }
     ],
     "prompt_number": 105
    },
    {
     "cell_type": "code",
     "collapsed": false,
     "input": [],
     "language": "python",
     "metadata": {},
     "outputs": []
    }
   ],
   "metadata": {}
  }
 ]
}