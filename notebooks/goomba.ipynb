{
 "metadata": {
  "name": "",
  "signature": "sha256:1376b746cf736038b55f824b7b6c18320d77cba59a6fdf7d270a651b17ee46af"
 },
 "nbformat": 3,
 "nbformat_minor": 0,
 "worksheets": [
  {
   "cells": [
    {
     "cell_type": "code",
     "collapsed": false,
     "input": [
      "%load_ext autoreload\n",
      "%autoreload 2\n",
      "%pylab inline\n",
      "\n",
      "import os.path as op\n",
      "base_dir = '/scr/fluidspace/pkerp/projects/genbank'"
     ],
     "language": "python",
     "metadata": {},
     "outputs": [
      {
       "output_type": "stream",
       "stream": "stdout",
       "text": [
        "Populating the interactive namespace from numpy and matplotlib\n"
       ]
      }
     ],
     "prompt_number": 1
    },
    {
     "cell_type": "code",
     "collapsed": false,
     "input": [
      "from pyspark.sql import *\n",
      "sqlContext = SQLContext(sc)\n",
      "# get the gene_id -> pubmed mapping\n",
      "gene2pubmed = (sc.textFile(op.join(base_dir, \"data/gene2pubmed\"))\n",
      "                 .filter(lambda x: x[0] != '#')\n",
      "                 .map(lambda x: x.split('\\t'))\n",
      "                 .map(lambda p: {'taxid': int(p[0]), 'geneid': int(p[1]), 'pmid': int(p[2]), 'count': 1}))"
     ],
     "language": "python",
     "metadata": {},
     "outputs": [],
     "prompt_number": 3
    },
    {
     "cell_type": "code",
     "collapsed": false,
     "input": [
      "gene2refseq = (sc.textFile(op.join(base_dir, \"data/gene2refseq\"))\n",
      "                 .filter(lambda x: x[0] != '#')\n",
      "                 .map(lambda x: x.split('\\t'))\n",
      "                 .map(lambda p:   { 'taxid': int(p[0]), \n",
      "                                    'geneid' :int(p[1]), \n",
      "                                    'start_pos': p[9],\n",
      "                                    'end_pos': p[10],\n",
      "                                    'nucleotide_accession': p[7],\n",
      "                                    'orientation': p[11],\n",
      "                                    'assembly': p[12]}))\n",
      "\n",
      "\n",
      "\n",
      "gene_info = (sc.textFile(op.join(base_dir, \"data/gene_info\"))\n",
      "             .filter(lambda x: x[0] != '#')\n",
      "             .map(lambda x: x.split('\\t'))\n",
      "             .map(lambda x: { 'taxid': int(x[0]),\n",
      "                              'geneid': int(x[1]),\n",
      "                              'description': x[8],\n",
      "                              'symbol': x[2],\n",
      "                              'name': x[11]}))"
     ],
     "language": "python",
     "metadata": {},
     "outputs": [],
     "prompt_number": 4
    },
    {
     "cell_type": "code",
     "collapsed": false,
     "input": [
      "gene_info_keyed = gene_info.map(lambda x: ((x['taxid'], x['geneid']), x))"
     ],
     "language": "python",
     "metadata": {},
     "outputs": [],
     "prompt_number": 5
    },
    {
     "cell_type": "code",
     "collapsed": false,
     "input": [
      "# filter for human genes\n",
      "human_gene_pubmed = (gene2pubmed.filter(lambda x: x['taxid'] == 9606)\n",
      "                                .map(lambda x: ((x['taxid'], x['geneid']), x)))"
     ],
     "language": "python",
     "metadata": {},
     "outputs": [],
     "prompt_number": 6
    },
    {
     "cell_type": "code",
     "collapsed": false,
     "input": [
      "def reduce_count(r1, r2):\n",
      "    '''\n",
      "    A reduce function that simply counts the number of elements in the table.\n",
      "    \n",
      "    @param r1: A Row\n",
      "    @param r2: A Row\n",
      "    @return: A new Row, equal to the first Row with a summed count.\n",
      "    '''\n",
      "    #print >>sys.stderr, \"r1:\", r1\n",
      "    r1['count'] += r2['count']\n",
      "    return r1"
     ],
     "language": "python",
     "metadata": {},
     "outputs": [],
     "prompt_number": 7
    },
    {
     "cell_type": "code",
     "collapsed": false,
     "input": [
      "# count how many references each id has\n",
      "# ((taxid, geneid), row)\n",
      "counted_human_gene_pubmed = (human_gene_pubmed.reduceByKey(reduce_count))\n",
      "counted_human_gene_pubmed.take(1)"
     ],
     "language": "python",
     "metadata": {},
     "outputs": [
      {
       "metadata": {},
       "output_type": "pyout",
       "prompt_number": 8,
       "text": [
        "[((9606, 7748), {'count': 13, 'geneid': 7748, 'pmid': 1602151, 'taxid': 9606})]"
       ]
      }
     ],
     "prompt_number": 8
    },
    {
     "cell_type": "code",
     "collapsed": false,
     "input": [
      "def merge_two_dicts(x, y):\n",
      "    '''Given two dicts, merge them into a new dict as a shallow copy.'''\n",
      "    z = x.copy()\n",
      "    z.update(y)\n",
      "    return z"
     ],
     "language": "python",
     "metadata": {},
     "outputs": [],
     "prompt_number": 9
    },
    {
     "cell_type": "code",
     "collapsed": false,
     "input": [
      "# filter the refseq genes to those in the human GRCh38 assembly\n",
      "# ((taxid, geneid), row)\n",
      "human_refseq = (gene2refseq.filter(lambda x: x['assembly'].find('GRCh38') >= 0)\n",
      "                           .filter(lambda x: x['nucleotide_accession'].find('NC_') >= 0)\n",
      "                           .map(lambda x: ((x['taxid'], x['geneid']), x)))\n",
      "\n",
      "human_refseq_info = (human_refseq.join(gene_info_keyed)\n",
      "                    .map(lambda x: (x[0], merge_two_dicts(x[1][0], x[1][1]))))\n",
      "human_refseq_info.take(1)"
     ],
     "language": "python",
     "metadata": {},
     "outputs": [
      {
       "metadata": {},
       "output_type": "pyout",
       "prompt_number": 23,
       "text": [
        "[((9606, 642924),\n",
        "  {'assembly': u'Reference GRCh38 Primary Assembly',\n",
        "   'description': u'long intergenic non-protein coding RNA 535',\n",
        "   'end_pos': u'93700432',\n",
        "   'geneid': 642924,\n",
        "   'name': u'long intergenic non-protein coding RNA 535',\n",
        "   'nucleotide_accession': u'NC_000008.11',\n",
        "   'orientation': u'-',\n",
        "   'start_pos': u'93346466',\n",
        "   'symbol': u'LINC00535',\n",
        "   'taxid': 9606})]"
       ]
      }
     ],
     "prompt_number": 23
    },
    {
     "cell_type": "code",
     "collapsed": false,
     "input": [
      "# join (K,V) and (K,W) -> (K, (V,W)) pairs\n",
      "# map (K,(V,W)) -> (K,W)\n",
      "# join the genes with reference counts with the refseq information\n",
      "human_refseq_pubmed = (counted_human_gene_pubmed.join(human_refseq)\n",
      "                      .map(lambda x: ((x[1][0]['count'], x[0][0], x[0][1]), x[1][1])))\n",
      "                      #.map(lambda x: x['start_end_pos'] = (x['nucleotide_accession'], x['orientation'], x['start_pos'], x['end_pos']))"
     ],
     "language": "python",
     "metadata": {},
     "outputs": []
    },
    {
     "cell_type": "code",
     "collapsed": false,
     "input": [
      "def consolidate_start_and_end(r):\n",
      "    '''\n",
      "    Consolidate the start and end rows\n",
      "    from a row.\n",
      "    \n",
      "    :param r: (key, {'start_pos': 1000, 'end_pos': 1010})\n",
      "    :return: (key, {'start_end_pos': set((1000, 1010))}\n",
      "    '''\n",
      "    r[1]['start_end_pos'] = set([(r[1]['nucleotide_accession'], r[1]['orientation'],int(r[1]['start_pos']), int(r[1]['end_pos']))])\n",
      "    return (r[0], r[1])\n",
      "\n",
      "def reduce_by_start_end_pos(r1,r2):\n",
      "    '''\n",
      "    Reduce all of the rows by their start / send positions.\n",
      "    \n",
      "    :param r: {'start_end_pos': set((1000, 1010))}\n",
      "    '''\n",
      "    #print >>sys.stderr, \"r1:\", r1\n",
      "    r1['start_end_pos'] = r1['start_end_pos'].union(r2['start_end_pos'])\n",
      "    return r1"
     ],
     "language": "python",
     "metadata": {},
     "outputs": [],
     "prompt_number": 11
    },
    {
     "cell_type": "code",
     "collapsed": false,
     "input": [
      "reduced_human_refseq_pubmed = (human_refseq_pubmed.map(consolidate_start_and_end)\n",
      "                               .reduceByKey(reduce_by_start_end_pos))\n",
      "\n",
      "              \n",
      "reduced_human_refseq_pubmed.sortByKey(ascending=False)\n",
      "reduced_human_refseq_pubmed.take(1)"
     ],
     "language": "python",
     "metadata": {},
     "outputs": [
      {
       "metadata": {},
       "output_type": "pyout",
       "prompt_number": 12,
       "text": [
        "[((1, 9606, 133790),\n",
        "  {'assembly': u'Reference GRCh38 Primary Assembly',\n",
        "   'end_pos': u'91354970',\n",
        "   'geneid': 133790,\n",
        "   'nucleotide_accession': u'NC_000005.10',\n",
        "   'orientation': u'+',\n",
        "   'start_end_pos': {(u'NC_000005.10', u'+', 91354439, 91354970)},\n",
        "   'start_pos': u'91354439',\n",
        "   'taxid': 9606})]"
       ]
      }
     ],
     "prompt_number": 12
    },
    {
     "cell_type": "code",
     "collapsed": false,
     "input": [
      "# take every (chr, orientation, start, end) tuple from the set and create one\n",
      "# big list out of it\n",
      "# then convert it all to TSV strings\n",
      "flattened_human_refseq_pubmed = (reduced_human_refseq_pubmed.flatMap(lambda x: [[x[0][0]] + list(y) for y in x[1]['start_end_pos']])\n",
      "                                 .map(lambda x: \"\\t\".join(map(str, x)) + \"\\n\")) \n",
      "#flattened_human_refseq_pubmed.coalesce(1,True).saveAsTextFile('/scr/fluidspace/pkerp/projects/goomba/output/genes_by_popularity')\n",
      "all_values = flattened_human_refseq_pubmed.collect()"
     ],
     "language": "python",
     "metadata": {},
     "outputs": [],
     "prompt_number": 21
    },
    {
     "cell_type": "code",
     "collapsed": false,
     "input": [
      "with open('/scr/fluidspace/pkerp/projects/goomba/output/genes_by_popularity.tsv', 'w') as f:\n",
      "    f.writelines(all_values)"
     ],
     "language": "python",
     "metadata": {},
     "outputs": [],
     "prompt_number": 22
    }
   ],
   "metadata": {}
  }
 ]
}